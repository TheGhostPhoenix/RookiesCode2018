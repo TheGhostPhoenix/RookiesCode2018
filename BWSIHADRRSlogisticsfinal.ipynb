{
  "nbformat": 4,
  "nbformat_minor": 0,
  "metadata": {
    "colab": {
      "name": "BWSIHADRRSlogisticsfinal.ipynb",
      "version": "0.3.2",
      "provenance": [],
      "collapsed_sections": [],
      "include_colab_link": true
    },
    "kernelspec": {
      "name": "python3",
      "display_name": "Python 3"
    }
  },
  "cells": [
    {
      "cell_type": "markdown",
      "metadata": {
        "id": "view-in-github",
        "colab_type": "text"
      },
      "source": [
        "<a href=\"https://colab.research.google.com/github/TheGhostPhoenix/RookiesCode2018/blob/master/BWSIHADRRSlogisticsfinal.ipynb\" target=\"_parent\"><img src=\"https://colab.research.google.com/assets/colab-badge.svg\" alt=\"Open In Colab\"/></a>"
      ]
    },
    {
      "cell_type": "code",
      "metadata": {
        "id": "vvWW88wKbQyO",
        "colab_type": "code",
        "colab": {
          "base_uri": "https://localhost:8080/",
          "height": 582
        },
        "outputId": "aa0aa69d-c8f8-4754-afbe-bfa398c489ec"
      },
      "source": [
        "# need to specify location of some certificates for rasterio\n",
        "!export CURL_CA_BUNDLE=/etc/ssl/certs/ca-certificates.crt\n",
        "!sudo mkdir -p /etc/pki/tls/certs\n",
        "!sudo cp /etc/ssl/certs/ca-certificates.crt /etc/pki/tls/certs/ca-bundle.crt\n",
        "try:\n",
        "  import rasterio\n",
        "  import rasterio.plot\n",
        "  import rasterio.merge \n",
        "  import rasterio.mask\n",
        "except:\n",
        "  !pip install rasterio\n",
        "  import rasterio\n",
        "  import rasterio.plot\n",
        "  import rasterio.merge\n",
        "  import rasterio.mask\n",
        "  \n",
        "try:\n",
        "  import rasterstats as rs\n",
        "except:\n",
        "  !pip install rasterstats  \n",
        "  import rasterstats as rs\n",
        "  \n",
        "try:\n",
        "  import pyproj\n",
        "except:\n",
        "  !pip install pyproj\n",
        "  import pyproj\n",
        "  \n",
        "import networkx as nx\n",
        "try:\n",
        "  import osmnx as ox\n",
        "except:\n",
        "  # osmnx depends on the system package libspatialindex\n",
        "  !apt install libspatialindex-dev\n",
        "  !pip install osmnx\n",
        "  import osmnx as ox\n",
        "\n",
        "try: \n",
        "  import geopandas as gpd\n",
        "except: \n",
        "  !pip install geopandas \n",
        "  import geopandas as gpd\n",
        "  \n",
        "try:\n",
        "  import contextily as ctx \n",
        "except:\n",
        "  # install dependencies for contextily\n",
        "  !apt install libproj-dev proj-data proj-bin\n",
        "  !apt install libgeos-dev\n",
        "  !pip install cython\n",
        "  !pip install cartopy\n",
        "  # install contextily\n",
        "  !pip install contextily==1.0rc1 --no-use-pep517 --no-cache-dir\n",
        "  import contextily as ctx\n",
        "  \n",
        "import fiona\n",
        "from shapely.geometry import Point, LineString, Polygon\n",
        "  \n",
        "import gdal\n",
        "import pandas as pd\n",
        "import numpy as np\n",
        "import matplotlib.pyplot as plt\n",
        "import pathlib\n",
        "from google.colab import drive\n",
        "drive.mount('/content/drive')\n",
        "%cd /content/drive/'My Drive'/BWSI-Remote-Sensing/'Final_exercise'"
      ],
      "execution_count": 1,
      "outputs": [
        {
          "output_type": "stream",
          "text": [
            "Collecting rasterstats\n",
            "  Downloading https://files.pythonhosted.org/packages/43/30/7f0b3ed0debd10a6687110dd9d46b308d33ff4696b88c2461758d86ff428/rasterstats-0.13.1-py3-none-any.whl\n",
            "Collecting simplejson (from rasterstats)\n",
            "\u001b[?25l  Downloading https://files.pythonhosted.org/packages/e3/24/c35fb1c1c315fc0fffe61ea00d3f88e85469004713dab488dee4f35b0aff/simplejson-3.16.0.tar.gz (81kB)\n",
            "\u001b[K     |████████████████████████████████| 81kB 9.5MB/s \n",
            "\u001b[?25hRequirement already satisfied: rasterio>=1.0 in /usr/local/lib/python3.6/dist-packages (from rasterstats) (1.0.24)\n",
            "Requirement already satisfied: numpy>=1.9 in /usr/local/lib/python3.6/dist-packages (from rasterstats) (1.16.4)\n",
            "Requirement already satisfied: shapely in /usr/local/lib/python3.6/dist-packages (from rasterstats) (1.6.4.post2)\n",
            "Requirement already satisfied: fiona in /usr/local/lib/python3.6/dist-packages (from rasterstats) (1.8.6)\n",
            "Requirement already satisfied: cligj>=0.4 in /usr/local/lib/python3.6/dist-packages (from rasterstats) (0.5.0)\n",
            "Requirement already satisfied: affine in /usr/local/lib/python3.6/dist-packages (from rasterio>=1.0->rasterstats) (2.2.2)\n",
            "Requirement already satisfied: click<8,>=4.0 in /usr/local/lib/python3.6/dist-packages (from rasterio>=1.0->rasterstats) (7.0)\n",
            "Requirement already satisfied: snuggs>=1.4.1 in /usr/local/lib/python3.6/dist-packages (from rasterio>=1.0->rasterstats) (1.4.6)\n",
            "Requirement already satisfied: click-plugins in /usr/local/lib/python3.6/dist-packages (from rasterio>=1.0->rasterstats) (1.1.1)\n",
            "Requirement already satisfied: attrs in /usr/local/lib/python3.6/dist-packages (from rasterio>=1.0->rasterstats) (19.1.0)\n",
            "Requirement already satisfied: munch in /usr/local/lib/python3.6/dist-packages (from fiona->rasterstats) (2.3.2)\n",
            "Requirement already satisfied: six>=1.7 in /usr/local/lib/python3.6/dist-packages (from fiona->rasterstats) (1.12.0)\n",
            "Requirement already satisfied: pyparsing>=2.1.6 in /usr/local/lib/python3.6/dist-packages (from snuggs>=1.4.1->rasterio>=1.0->rasterstats) (2.4.0)\n",
            "Building wheels for collected packages: simplejson\n",
            "  Building wheel for simplejson (setup.py) ... \u001b[?25l\u001b[?25hdone\n",
            "  Stored in directory: /root/.cache/pip/wheels/5d/1a/1e/0350bb3df3e74215cd91325344cc86c2c691f5306eb4d22c77\n",
            "Successfully built simplejson\n",
            "Installing collected packages: simplejson, rasterstats\n",
            "Successfully installed rasterstats-0.13.1 simplejson-3.16.0\n",
            "Go to this URL in a browser: https://accounts.google.com/o/oauth2/auth?client_id=947318989803-6bn6qk8qdgf4n4g3pfee6491hc0brc4i.apps.googleusercontent.com&redirect_uri=urn%3Aietf%3Awg%3Aoauth%3A2.0%3Aoob&scope=email%20https%3A%2F%2Fwww.googleapis.com%2Fauth%2Fdocs.test%20https%3A%2F%2Fwww.googleapis.com%2Fauth%2Fdrive%20https%3A%2F%2Fwww.googleapis.com%2Fauth%2Fdrive.photos.readonly%20https%3A%2F%2Fwww.googleapis.com%2Fauth%2Fpeopleapi.readonly&response_type=code\n",
            "\n",
            "Enter your authorization code:\n",
            "··········\n",
            "Mounted at /content/drive\n",
            "/content/drive/My Drive/BWSI-Remote-Sensing/Final_exercise\n"
          ],
          "name": "stdout"
        }
      ]
    },
    {
      "cell_type": "code",
      "metadata": {
        "id": "W-W8lWTucVdD",
        "colab_type": "code",
        "colab": {
          "base_uri": "https://localhost:8080/",
          "height": 72
        },
        "outputId": "16ea34d3-19ce-4ece-fbb2-f19657720bd4"
      },
      "source": [
        "!ls game_grid_export"
      ],
      "execution_count": 2,
      "outputs": [
        {
          "output_type": "stream",
          "text": [
            "facilities    flooding.prj  game_grid_all_stats.cpg  game_grid_all_stats.shp\n",
            "flooding.cpg  flooding.shp  game_grid_all_stats.dbf  game_grid_all_stats.shx\n",
            "flooding.dbf  flooding.shx  game_grid_all_stats.prj\n"
          ],
          "name": "stdout"
        }
      ]
    },
    {
      "cell_type": "code",
      "metadata": {
        "id": "V_CycVU8ciS2",
        "colab_type": "code",
        "colab": {}
      },
      "source": [
        ""
      ],
      "execution_count": 0,
      "outputs": []
    }
  ]
}